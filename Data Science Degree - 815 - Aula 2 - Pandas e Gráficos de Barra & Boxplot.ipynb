{
 "cells": [
  {
   "cell_type": "markdown",
   "id": "24b6fae2",
   "metadata": {},
   "source": [
    "# Data assessment, Bar & Boxplot Graphs using Pandas\n",
    "\n",
    "**Degree**: Data Science | **Class**: 815 | **Institution**: Let's Code | **Module**: V - Programming Techniques II \n",
    "\n",
    "#### 👨‍🏫 Professor\n",
    "[Gabriela Uhrigshardt](https://github.com/gabrielagu)\n",
    "\n",
    "#### Student:\n",
    "👩‍🎓: [Ana Gabriela de Castro Almeida](https://github.com/almeidacastrogabriela)"
   ]
  },
  {
   "cell_type": "markdown",
   "id": "27db421d",
   "metadata": {},
   "source": [
    "### Aula 2: Exercícios\n",
    "\n",
    "Para estes exercícios, iremos utilizar duas bases:\n",
    "\n",
    "1) base fictícia de funcionários criada por cientistas de dados da IBM.\n",
    "\n",
    "**Variáveis:**\n",
    "- **Age:** Idade\n",
    "- **Attrition:** Se saiu da empresa (Sim ou não)\n",
    "- **BusinessTravel:** Frequência de viagens a trabalho\n",
    "- **DailyRate:** Custo do funcionário por dia\n",
    "- **Department:** Departamento\n",
    "- **DistanceFromHome:** Distância do trabalho até a casa do funcionário\n",
    "- **Education:** Nível de educação:\n",
    "    - 1: 'Below College'\n",
    "    - 2: 'College'\n",
    "    - 3: 'Bachelor'\n",
    "    - 4: 'Master'\n",
    "    - 5: 'Doctor'\n",
    "- **EducationField:** Área da educação\n",
    "- **EmployeeNumber:** ID do funcionário\n",
    "- **EnvironmentSatisfaction:** Satisfação com o ambiente de trabalho:\n",
    "    - 1: 'Low'\n",
    "    - 2: 'Medium'\n",
    "    - 3: 'High'\n",
    "    - 4: 'Very High'\n",
    "- **Gender:** Gênero\n",
    "- **HourlyRate:** Valor/hora\n",
    "- **JobInvolvement:** Nível de envolvimento com o trabalho (psicologica e emocionalmente):\n",
    "    - 1: 'Low'\n",
    "    - 2: 'Medium'\n",
    "    - 3: 'High'\n",
    "    - 4: 'Very High'\n",
    "- **JobLevel:** Nível do funcionário\n",
    "- **JobRole:** Cargo\n",
    "- **JobSatisfaction:** Nível de satisfação com o trabalho:\n",
    "    - 1: 'Low'\n",
    "    - 2: 'Medium'\n",
    "    - 3: 'High'\n",
    "    - 4: 'Very High'\n",
    "- **MaritalStatus:** Estado Civil\n",
    "- **NumCompaniesWorked:** Número de empresas que já trabalhou\n",
    "- **PercentSalaryHike:** Aumento salarial (%)\n",
    "- **PerformanceRating:** Nível de performance:\n",
    "    - 1: 'Low'\n",
    "    - 2: 'Good'\n",
    "    - 3: 'Excellent'\n",
    "    - 4: 'Outstanding'\n",
    "- **RelationshipSatisfaction:** Satisfação de relacionamento:\n",
    "    - 1: 'Low'\n",
    "    - 2: 'Medium'\n",
    "    - 3: 'High'\n",
    "    - 4: 'Very High'\n",
    "- **TotalWorkingYears:** Número de anos trabalhados\n",
    "- **TrainingTimesLastYear:** Número de treinamentos no ano anterior\n",
    "- **WorkLifeBalance:** Equilíbrio da vida profissional\n",
    "    - 1: 'Bad'\n",
    "    - 2: 'Good'\n",
    "    - 3: 'Better'\n",
    "    - 4: 'Best'\n",
    "- **YearsAtCompany:** Anos na empresa\n",
    "- **YearsInCurrentRole:** Anos na posição atual\n",
    "- **YearsSinceLastPromotion:** Anos desde a última promoção\n",
    "- **YearsWithCurrManager:** Anos com o mesmo gestor\n",
    "\n",
    "2) Base de dados de casos e óbitos de covid no estado de SP.\n",
    "\n",
    "- **nome_munic:** Nome do município\n",
    "- **codigo_ibge:** Código do município no IBGE (7 dígitos)\n",
    "- **casos_novos:** Casos novos registrados na data\n",
    "- **obitos_novos:** Óbitos novos registrados na data\n",
    "- **nome_drs:** Nome do Dpto. Regional de Saúde\n",
    "- **cod_drs:** Código do Dpto. Regional de Saúde\n",
    "- **pop:** População Estimada (fonte: SEADE)\n",
    "- **pop60:** População acima de 60 anos (fonte: SEADE)\n",
    "- **ano_mes:** Ano e mês dos dados"
   ]
  },
  {
   "cell_type": "markdown",
   "id": "665844ca",
   "metadata": {},
   "source": [
    "# 🇬🇧 **Note**:\n",
    "\n",
    "As the file has questions and information in Brazilian Portguese, code was developed and comments were added to make it clear for non-portuguese speakers.\n",
    "\n",
    "The core of this exercise consisted in working with two different databases that had the variables listed above."
   ]
  },
  {
   "cell_type": "code",
   "execution_count": 1,
   "id": "cc8717bc",
   "metadata": {},
   "outputs": [],
   "source": [
    "#Importando as bibliotecas necessárias\n",
    "\n",
    "#Importing necessary libraries\n",
    "\n",
    "import pandas as pd\n",
    "import numpy as np\n",
    "import matplotlib.pyplot as plt"
   ]
  },
  {
   "cell_type": "code",
   "execution_count": 2,
   "id": "0a4730cc",
   "metadata": {},
   "outputs": [],
   "source": [
    "# Leitura da base de dados que será analisada e transformação em dataframe\n",
    "\n",
    "# Reading the file that contains the data to be assessed and transforming it into a dataframe\n",
    "\n",
    "df2 = pd.read_csv(\"dados_covid_sp_20.csv\")"
   ]
  },
  {
   "cell_type": "code",
   "execution_count": 3,
   "id": "c18cd852",
   "metadata": {},
   "outputs": [
    {
     "data": {
      "text/html": [
       "<div>\n",
       "<style scoped>\n",
       "    .dataframe tbody tr th:only-of-type {\n",
       "        vertical-align: middle;\n",
       "    }\n",
       "\n",
       "    .dataframe tbody tr th {\n",
       "        vertical-align: top;\n",
       "    }\n",
       "\n",
       "    .dataframe thead th {\n",
       "        text-align: right;\n",
       "    }\n",
       "</style>\n",
       "<table border=\"1\" class=\"dataframe\">\n",
       "  <thead>\n",
       "    <tr style=\"text-align: right;\">\n",
       "      <th></th>\n",
       "      <th>nome_munic</th>\n",
       "      <th>codigo_ibge</th>\n",
       "      <th>nome_drs</th>\n",
       "      <th>cod_drs</th>\n",
       "      <th>pop</th>\n",
       "      <th>pop_60</th>\n",
       "      <th>ano_mes</th>\n",
       "      <th>casos</th>\n",
       "      <th>casos_novos</th>\n",
       "      <th>obitos</th>\n",
       "      <th>obitos_novos</th>\n",
       "    </tr>\n",
       "  </thead>\n",
       "  <tbody>\n",
       "    <tr>\n",
       "      <th>0</th>\n",
       "      <td>Adamantina</td>\n",
       "      <td>3500105</td>\n",
       "      <td>Marília</td>\n",
       "      <td>5.0</td>\n",
       "      <td>33894.0</td>\n",
       "      <td>7398.0</td>\n",
       "      <td>2020-02</td>\n",
       "      <td>0</td>\n",
       "      <td>0</td>\n",
       "      <td>0</td>\n",
       "      <td>0</td>\n",
       "    </tr>\n",
       "    <tr>\n",
       "      <th>1</th>\n",
       "      <td>Adamantina</td>\n",
       "      <td>3500105</td>\n",
       "      <td>Marília</td>\n",
       "      <td>5.0</td>\n",
       "      <td>33894.0</td>\n",
       "      <td>7398.0</td>\n",
       "      <td>2020-03</td>\n",
       "      <td>0</td>\n",
       "      <td>0</td>\n",
       "      <td>0</td>\n",
       "      <td>0</td>\n",
       "    </tr>\n",
       "    <tr>\n",
       "      <th>2</th>\n",
       "      <td>Adamantina</td>\n",
       "      <td>3500105</td>\n",
       "      <td>Marília</td>\n",
       "      <td>5.0</td>\n",
       "      <td>33894.0</td>\n",
       "      <td>7398.0</td>\n",
       "      <td>2020-04</td>\n",
       "      <td>28</td>\n",
       "      <td>5</td>\n",
       "      <td>0</td>\n",
       "      <td>0</td>\n",
       "    </tr>\n",
       "    <tr>\n",
       "      <th>3</th>\n",
       "      <td>Adamantina</td>\n",
       "      <td>3500105</td>\n",
       "      <td>Marília</td>\n",
       "      <td>5.0</td>\n",
       "      <td>33894.0</td>\n",
       "      <td>7398.0</td>\n",
       "      <td>2020-05</td>\n",
       "      <td>717</td>\n",
       "      <td>34</td>\n",
       "      <td>27</td>\n",
       "      <td>2</td>\n",
       "    </tr>\n",
       "    <tr>\n",
       "      <th>4</th>\n",
       "      <td>Adamantina</td>\n",
       "      <td>3500105</td>\n",
       "      <td>Marília</td>\n",
       "      <td>5.0</td>\n",
       "      <td>33894.0</td>\n",
       "      <td>7398.0</td>\n",
       "      <td>2020-06</td>\n",
       "      <td>163</td>\n",
       "      <td>3</td>\n",
       "      <td>10</td>\n",
       "      <td>1</td>\n",
       "    </tr>\n",
       "  </tbody>\n",
       "</table>\n",
       "</div>"
      ],
      "text/plain": [
       "   nome_munic  codigo_ibge nome_drs  cod_drs      pop  pop_60  ano_mes  casos  \\\n",
       "0  Adamantina      3500105  Marília      5.0  33894.0  7398.0  2020-02      0   \n",
       "1  Adamantina      3500105  Marília      5.0  33894.0  7398.0  2020-03      0   \n",
       "2  Adamantina      3500105  Marília      5.0  33894.0  7398.0  2020-04     28   \n",
       "3  Adamantina      3500105  Marília      5.0  33894.0  7398.0  2020-05    717   \n",
       "4  Adamantina      3500105  Marília      5.0  33894.0  7398.0  2020-06    163   \n",
       "\n",
       "   casos_novos  obitos  obitos_novos  \n",
       "0            0       0             0  \n",
       "1            0       0             0  \n",
       "2            5       0             0  \n",
       "3           34      27             2  \n",
       "4            3      10             1  "
      ]
     },
     "execution_count": 3,
     "metadata": {},
     "output_type": "execute_result"
    }
   ],
   "source": [
    "# Verificando o nome das colunas e demais visualização do dataframe\n",
    "\n",
    "# Checking dataframe's columns and other visual attributes\n",
    "\n",
    "df2.head()"
   ]
  },
  {
   "cell_type": "markdown",
   "id": "272987e1",
   "metadata": {},
   "source": [
    "## Exercício 1:\n",
    "Utilizando a base de dados de covid:\n",
    "\n",
    "**a)** Faça um gráfico de barras mostrando o total de óbitos (considerando todos os meses) para todos os DRS, excluindo a Grande São Paulo. Coloque título no gráfico e nos eixos, defina um tamanho de imagem bom e intercale as barras com as cores 'red' e 'green'."
   ]
  },
  {
   "cell_type": "code",
   "execution_count": 4,
   "id": "db992733",
   "metadata": {},
   "outputs": [],
   "source": [
    "# Filtrando o dataframe para pegar os DRS que são diferentes de Grande São Paulo\n",
    "\n",
    "# Filtering the dataframe to collect all DRS that are not named Great São Paulo\n",
    "\n",
    "df2_without_gsp = df2[df2[\"nome_drs\"] != \"Grande São Paulo\"]"
   ]
  },
  {
   "cell_type": "code",
   "execution_count": 7,
   "id": "72435629",
   "metadata": {},
   "outputs": [
    {
     "data": {
      "text/plain": [
       "<AxesSubplot:title={'center':'Total Covid-19 Deaths by Regional Health Dept'}, xlabel='Regional Health Dept.', ylabel='Deaths'>"
      ]
     },
     "execution_count": 7,
     "metadata": {},
     "output_type": "execute_result"
    },
    {
     "data": {
      "image/png": "[encoded data removed]",
      "text/plain": [
       "<Figure size 1080x720 with 1 Axes>"
      ]
     },
     "metadata": {
      "needs_background": "light"
     },
     "output_type": "display_data"
    }
   ],
   "source": [
    "# Agrupando os Departamentos Regionais e Novos Óbitos para verificar o total de óbitos em todos os meses de 2020\n",
    "\n",
    "df2_without_gsp.groupby([\"nome_drs\"])[\"obitos_novos\"].sum().plot(kind=\"bar\", \n",
    "                                                                 title=\"Total Covid-19 Deaths by Regional Health Dept\", \n",
    "                                                                 figsize=(15,10), xlabel=\"Regional Health Dept.\", \n",
    "                                                                 ylabel=\"Deaths\", color=[\"red\", \"green\"])"
   ]
  },
  {
   "cell_type": "code",
   "execution_count": null,
   "id": "3c0ff011",
   "metadata": {},
   "outputs": [],
   "source": []
  },
  {
   "cell_type": "markdown",
   "id": "5889d8f5",
   "metadata": {},
   "source": [
    "**b)**  Faça um gráfico de barras horizontal mostrando o total de óbitos no mês de abril para 3 DRS da sua escolha. Coloque título no gráfico e nos eixos, defina um tamanho de imagem bom."
   ]
  },
  {
   "cell_type": "code",
   "execution_count": 11,
   "id": "42b00983",
   "metadata": {},
   "outputs": [],
   "source": [
    "# Criação de uma cópia do dataframe original para fazer o pivo.\n",
    "\n",
    "#Creating a copy of the original dataframe in order to pivot it.\n",
    "\n",
    "df2_copy = df2.copy()"
   ]
  },
  {
   "cell_type": "markdown",
   "id": "f56a777a",
   "metadata": {},
   "source": [
    "🇧🇷\n",
    "**Observação**: Fazendo um pivo com os dados dos DRS selecionados e medindo o total de óbitos para essas regiões.\n",
    "Como o dataframe é pequeno, podemos ver que o índice para o mês de \"Abril\" é 2, já o mês de \"Junho\" é a última posição do dataframe.\n",
    "\n",
    "A solicitação pede uma análise somente do mês de Abril\n",
    "\n",
    "-----------------------------\n",
    "🇬🇧\n",
    "**Note**: Creating a pivot with data of the selected DRS, measuring total deaths for those cities.\n",
    "\n",
    "The question requested an analysis of April."
   ]
  },
  {
   "cell_type": "code",
   "execution_count": 31,
   "id": "25c5868f",
   "metadata": {},
   "outputs": [],
   "source": [
    "# Selecionando três cidades do dataframe para visualizar o total de óbitos do mês de Abril de 2020\n",
    "\n",
    "# Choosing 3 cities of the dataframe to check the total death during April 2020\n",
    "\n",
    "chosen_cities = df2_copy.pivot_table(index=\"ano_mes\", columns=\"nome_drs\", values=\"obitos_novos\", aggfunc=\"sum\") \n",
    "\n",
    "chosen_cities = chosen_cities[[\"Baixada Santista\", \"Sorocaba\", \"Bauru\"]]\n",
    "\n",
    "chosen_cities = chosen_cities.reset_index()\n",
    "\n",
    "chosen_cities = chosen_cities[chosen_cities[\"ano_mes\"] == \"2020-04\"]"
   ]
  },
  {
   "cell_type": "code",
   "execution_count": 32,
   "id": "4740686f",
   "metadata": {},
   "outputs": [
    {
     "data": {
      "text/html": [
       "<div>\n",
       "<style scoped>\n",
       "    .dataframe tbody tr th:only-of-type {\n",
       "        vertical-align: middle;\n",
       "    }\n",
       "\n",
       "    .dataframe tbody tr th {\n",
       "        vertical-align: top;\n",
       "    }\n",
       "\n",
       "    .dataframe thead th {\n",
       "        text-align: right;\n",
       "    }\n",
       "</style>\n",
       "<table border=\"1\" class=\"dataframe\">\n",
       "  <thead>\n",
       "    <tr style=\"text-align: right;\">\n",
       "      <th>nome_drs</th>\n",
       "      <th>ano_mes</th>\n",
       "      <th>Baixada Santista</th>\n",
       "      <th>Sorocaba</th>\n",
       "      <th>Bauru</th>\n",
       "    </tr>\n",
       "  </thead>\n",
       "  <tbody>\n",
       "    <tr>\n",
       "      <th>2</th>\n",
       "      <td>2020-04</td>\n",
       "      <td>86</td>\n",
       "      <td>31</td>\n",
       "      <td>26</td>\n",
       "    </tr>\n",
       "  </tbody>\n",
       "</table>\n",
       "</div>"
      ],
      "text/plain": [
       "nome_drs  ano_mes  Baixada Santista  Sorocaba  Bauru\n",
       "2         2020-04                86        31     26"
      ]
     },
     "execution_count": 32,
     "metadata": {},
     "output_type": "execute_result"
    }
   ],
   "source": [
    "chosen_cities.head()"
   ]
  },
  {
   "cell_type": "code",
   "execution_count": 40,
   "id": "10d0f677",
   "metadata": {},
   "outputs": [
    {
     "data": {
      "text/plain": [
       "<AxesSubplot:title={'center':'Total Covid-19 Deaths during April 2020'}, ylabel='Regional Health Dept.'>"
      ]
     },
     "execution_count": 40,
     "metadata": {},
     "output_type": "execute_result"
    },
    {
     "data": {
      "image/png": "[encoded data removed]",
      "text/plain": [
       "<Figure size 720x720 with 1 Axes>"
      ]
     },
     "metadata": {
      "needs_background": "light"
     },
     "output_type": "display_data"
    }
   ],
   "source": [
    "# Criação do gráfico de barras horizontais para observar as informações coletadas no pivo para as cidades\n",
    "\n",
    "# Creating a horizontal bar graph to observe the information collected through the pivot for the selected cities\n",
    "\n",
    "chosen_cities.plot(kind=\"barh\", figsize=(10,10), color={\"#800080\", \"#04D8B2\", \"#FFC0CB\"},\n",
    "                   title=\"Total Covid-19 Deaths during April 2020\", ylabel=\"Number of Deaths\",\n",
    "                   xlabel=\"Regional Health Dept.\")"
   ]
  },
  {
   "cell_type": "markdown",
   "id": "5d4d84ed",
   "metadata": {},
   "source": [
    "---------------------\n",
    "---------------------"
   ]
  },
  {
   "cell_type": "code",
   "execution_count": 41,
   "id": "90d2e4f9",
   "metadata": {},
   "outputs": [],
   "source": [
    "# Leitura da base de dados que será analisada e transformação em dataframe\n",
    "\n",
    "# Reading the file that contains the data to be assessed and transforming it into a dataframe\n",
    "\n",
    "df1 = pd.read_csv(\"IBM_Employees.csv\")"
   ]
  },
  {
   "cell_type": "markdown",
   "id": "cdcbe7ac",
   "metadata": {},
   "source": [
    "## Exercício 2\n",
    "\n",
    "**a)** Utilizando a base de dados da IBM, crie um histograma para as idades dos funcionários, separando por gênero."
   ]
  },
  {
   "cell_type": "code",
   "execution_count": 64,
   "id": "71c2fb1a",
   "metadata": {},
   "outputs": [
    {
     "data": {
      "image/png": "[encoded data removed]",
      "text/plain": [
       "<Figure size 1440x720 with 1 Axes>"
      ]
     },
     "metadata": {
      "needs_background": "light"
     },
     "output_type": "display_data"
    }
   ],
   "source": [
    "# Criando um histograma para idades separadas por gênero\n",
    "\n",
    "# Creating a histogram with the ages of employees separated by gender\n",
    "\n",
    "\n",
    "ax1 = df1[df1[\"Gender\"]==\"Male\"].plot(kind=\"hist\", figsize=(20,10), y=\"Age\", color=\"teal\", alpha=0.5, label=\"Male\", \n",
    "                                      title=(\"Employees Age seen by Gender\"))\n",
    "ax2 = df1[df1[\"Gender\"]==\"Female\"].plot(kind=\"hist\", y=\"Age\", color=\"#FFC0CB\", label=\"Female\", ax=ax1)"
   ]
  },
  {
   "cell_type": "markdown",
   "id": "8c9a5551",
   "metadata": {},
   "source": [
    "**b)** Faça agora um boxplot das idades, por gênero."
   ]
  },
  {
   "cell_type": "code",
   "execution_count": 70,
   "id": "19ebc888",
   "metadata": {},
   "outputs": [
    {
     "data": {
      "text/plain": [
       "<AxesSubplot:title={'center':'Age'}, xlabel='Gender'>"
      ]
     },
     "execution_count": 70,
     "metadata": {},
     "output_type": "execute_result"
    },
    {
     "data": {
      "image/png": "[encoded data removed]",
      "text/plain": [
       "<Figure size 1440x720 with 1 Axes>"
      ]
     },
     "metadata": {
      "needs_background": "light"
     },
     "output_type": "display_data"
    }
   ],
   "source": [
    "# Criando um boxplot para idades separadas por gênero\n",
    "\n",
    "# Creating a boxplot with the ages of employees separated by gender\n",
    "\n",
    "df1.boxplot(column=[\"Age\"], by=\"Gender\", grid=False, color={\"boxes\":\"thistle\", \"medians\" : \"blue\"}, \n",
    "            figsize=(20,10), showfliers=False)"
   ]
  }
 ],
 "metadata": {
  "kernelspec": {
   "display_name": "Python 3",
   "language": "python",
   "name": "python3"
  },
  "language_info": {
   "codemirror_mode": {
    "name": "ipython",
    "version": 3
   },
   "file_extension": ".py",
   "mimetype": "text/x-python",
   "name": "python",
   "nbconvert_exporter": "python",
   "pygments_lexer": "ipython3",
   "version": "3.9.5"
  }
 },
 "nbformat": 4,
 "nbformat_minor": 5
}
